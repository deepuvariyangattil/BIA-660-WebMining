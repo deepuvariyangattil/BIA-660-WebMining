{
 "cells": [
  {
   "cell_type": "code",
   "execution_count": 18,
   "metadata": {},
   "outputs": [],
   "source": [
    "from surprise import NMF\n",
    "from surprise import KNNBasic\n",
    "from surprise import Dataset\n",
    "from surprise.model_selection import cross_validate"
   ]
  },
  {
   "cell_type": "code",
   "execution_count": 5,
   "metadata": {},
   "outputs": [
    {
     "name": "stdout",
     "output_type": "stream",
     "text": [
      "Dataset ml-100k could not be found. Do you want to download it? [Y/n] Y\n",
      "Trying to download dataset from http://files.grouplens.org/datasets/movielens/ml-100k.zip...\n",
      "Done! Dataset ml-100k has been saved to C:\\Users\\DEEPUAISHU/.surprise_data/ml-100k\n"
     ]
    }
   ],
   "source": [
    "data = Dataset.load_builtin('ml-100k')"
   ]
  },
  {
   "cell_type": "code",
   "execution_count": 6,
   "metadata": {},
   "outputs": [],
   "source": [
    "algo=NMF()"
   ]
  },
  {
   "cell_type": "code",
   "execution_count": 7,
   "metadata": {},
   "outputs": [
    {
     "name": "stdout",
     "output_type": "stream",
     "text": [
      "Evaluating RMSE, MAE of algorithm NMF on 5 split(s).\n",
      "\n",
      "                  Fold 1  Fold 2  Fold 3  Fold 4  Fold 5  Mean    Std     \n",
      "RMSE (testset)    0.9698  0.9612  0.9604  0.9654  0.9726  0.9659  0.0047  \n",
      "MAE (testset)     0.7629  0.7571  0.7568  0.7582  0.7618  0.7594  0.0025  \n",
      "Fit time          6.81    6.93    6.85    7.51    6.85    6.99    0.26    \n",
      "Test time         0.18    0.14    0.18    0.14    0.16    0.16    0.02    \n"
     ]
    },
    {
     "data": {
      "text/plain": [
       "{'test_rmse': array([0.9697615 , 0.96122075, 0.96038523, 0.96541481, 0.97259738]),\n",
       " 'test_mae': array([0.76290519, 0.75710229, 0.75682008, 0.75816151, 0.76178925]),\n",
       " 'fit_time': (6.806194305419922,\n",
       "  6.9344799518585205,\n",
       "  6.849656343460083,\n",
       "  7.514945030212402,\n",
       "  6.85292387008667),\n",
       " 'test_time': (0.18148088455200195,\n",
       "  0.14458060264587402,\n",
       "  0.17788004875183105,\n",
       "  0.1426544189453125,\n",
       "  0.1647779941558838)}"
      ]
     },
     "execution_count": 7,
     "metadata": {},
     "output_type": "execute_result"
    }
   ],
   "source": [
    "cross_validate(algo, data, measures=['RMSE', 'MAE'], cv=5, verbose=True)"
   ]
  },
  {
   "cell_type": "code",
   "execution_count": 8,
   "metadata": {},
   "outputs": [
    {
     "name": "stdout",
     "output_type": "stream",
     "text": [
      "Evaluating RMSE, MAE of algorithm NMF on 10 split(s).\n",
      "\n",
      "                  Fold 1  Fold 2  Fold 3  Fold 4  Fold 5  Fold 6  Fold 7  Fold 8  Fold 9  Fold 10 Mean    Std     \n",
      "RMSE (testset)    0.9497  0.9593  0.9609  0.9535  0.9531  0.9608  0.9760  0.9636  0.9507  0.9562  0.9584  0.0074  \n",
      "MAE (testset)     0.7508  0.7532  0.7568  0.7509  0.7522  0.7521  0.7678  0.7562  0.7524  0.7517  0.7544  0.0049  \n",
      "Fit time          7.85    7.96    10.55   7.69    8.82    7.91    7.89    8.20    8.34    7.61    8.28    0.83    \n",
      "Test time         0.07    0.14    0.07    0.11    0.08    0.11    0.07    0.09    0.08    0.12    0.09    0.02    \n"
     ]
    },
    {
     "data": {
      "text/plain": [
       "{'test_rmse': array([0.94967591, 0.95927064, 0.96091018, 0.95354791, 0.95307815,\n",
       "        0.96083673, 0.97598261, 0.96359176, 0.95066626, 0.95615207]),\n",
       " 'test_mae': array([0.75076395, 0.75320561, 0.75684094, 0.75094221, 0.75215283,\n",
       "        0.75212135, 0.76775372, 0.75616345, 0.75239511, 0.75171066]),\n",
       " 'fit_time': (7.84981894493103,\n",
       "  7.963345527648926,\n",
       "  10.551356077194214,\n",
       "  7.691641807556152,\n",
       "  8.81532073020935,\n",
       "  7.913684368133545,\n",
       "  7.89407753944397,\n",
       "  8.200806140899658,\n",
       "  8.335386753082275,\n",
       "  7.607518672943115),\n",
       " 'test_time': (0.07131743431091309,\n",
       "  0.14130711555480957,\n",
       "  0.07184457778930664,\n",
       "  0.1077122688293457,\n",
       "  0.07929611206054688,\n",
       "  0.10669922828674316,\n",
       "  0.0718073844909668,\n",
       "  0.08547663688659668,\n",
       "  0.07579851150512695,\n",
       "  0.11654210090637207)}"
      ]
     },
     "execution_count": 8,
     "metadata": {},
     "output_type": "execute_result"
    }
   ],
   "source": [
    "cross_validate(algo, data, measures=['RMSE', 'MAE'], cv=10, verbose=True)"
   ]
  },
  {
   "cell_type": "code",
   "execution_count": 19,
   "metadata": {},
   "outputs": [],
   "source": [
    "algo=KNNBasic()"
   ]
  },
  {
   "cell_type": "code",
   "execution_count": 20,
   "metadata": {},
   "outputs": [
    {
     "name": "stdout",
     "output_type": "stream",
     "text": [
      "Computing the msd similarity matrix...\n",
      "Done computing similarity matrix.\n",
      "Computing the msd similarity matrix...\n",
      "Done computing similarity matrix.\n",
      "Computing the msd similarity matrix...\n",
      "Done computing similarity matrix.\n",
      "Computing the msd similarity matrix...\n",
      "Done computing similarity matrix.\n",
      "Computing the msd similarity matrix...\n",
      "Done computing similarity matrix.\n",
      "Evaluating RMSE, MAE of algorithm KNNBasic on 5 split(s).\n",
      "\n",
      "                  Fold 1  Fold 2  Fold 3  Fold 4  Fold 5  Mean    Std     \n",
      "RMSE (testset)    0.9768  0.9748  0.9744  0.9816  0.9874  0.9790  0.0049  \n",
      "MAE (testset)     0.7736  0.7662  0.7668  0.7794  0.7798  0.7732  0.0059  \n",
      "Fit time          0.71    0.78    0.70    0.70    0.70    0.72    0.03    \n",
      "Test time         4.56    4.43    4.22    4.18    4.34    4.35    0.14    \n"
     ]
    },
    {
     "data": {
      "text/plain": [
       "{'test_rmse': array([0.97682292, 0.97481993, 0.97442136, 0.98161041, 0.98741474]),\n",
       " 'test_mae': array([0.77360249, 0.76623307, 0.766831  , 0.77936414, 0.77984917]),\n",
       " 'fit_time': (0.7067785263061523,\n",
       "  0.7784311771392822,\n",
       "  0.6996421813964844,\n",
       "  0.7001199722290039,\n",
       "  0.7031221389770508),\n",
       " 'test_time': (4.561537027359009,\n",
       "  4.432225465774536,\n",
       "  4.221937894821167,\n",
       "  4.183156967163086,\n",
       "  4.335692405700684)}"
      ]
     },
     "execution_count": 20,
     "metadata": {},
     "output_type": "execute_result"
    }
   ],
   "source": [
    "cross_validate(algo, data, measures=['RMSE', 'MAE'], cv=5, verbose=True)"
   ]
  },
  {
   "cell_type": "code",
   "execution_count": 21,
   "metadata": {},
   "outputs": [
    {
     "name": "stdout",
     "output_type": "stream",
     "text": [
      "Computing the msd similarity matrix...\n",
      "Done computing similarity matrix.\n",
      "Computing the msd similarity matrix...\n",
      "Done computing similarity matrix.\n",
      "Computing the msd similarity matrix...\n",
      "Done computing similarity matrix.\n",
      "Computing the msd similarity matrix...\n",
      "Done computing similarity matrix.\n",
      "Computing the msd similarity matrix...\n",
      "Done computing similarity matrix.\n",
      "Computing the msd similarity matrix...\n",
      "Done computing similarity matrix.\n",
      "Computing the msd similarity matrix...\n",
      "Done computing similarity matrix.\n",
      "Computing the msd similarity matrix...\n",
      "Done computing similarity matrix.\n",
      "Computing the msd similarity matrix...\n",
      "Done computing similarity matrix.\n",
      "Computing the msd similarity matrix...\n",
      "Done computing similarity matrix.\n",
      "Evaluating RMSE, MAE of algorithm KNNBasic on 10 split(s).\n",
      "\n",
      "                  Fold 1  Fold 2  Fold 3  Fold 4  Fold 5  Fold 6  Fold 7  Fold 8  Fold 9  Fold 10 Mean    Std     \n",
      "RMSE (testset)    0.9858  0.9810  0.9805  0.9615  0.9686  0.9645  0.9717  0.9696  0.9765  0.9615  0.9721  0.0081  \n",
      "MAE (testset)     0.7775  0.7754  0.7744  0.7594  0.7653  0.7594  0.7664  0.7638  0.7690  0.7624  0.7673  0.0062  \n",
      "Fit time          0.89    1.05    0.87    0.88    0.88    0.88    0.88    0.87    0.87    0.88    0.89    0.05    \n",
      "Test time         2.83    2.29    2.30    2.32    2.37    2.32    2.28    2.32    2.25    2.39    2.37    0.16    \n"
     ]
    },
    {
     "data": {
      "text/plain": [
       "{'test_rmse': array([0.98579956, 0.98098171, 0.98045156, 0.961503  , 0.96856307,\n",
       "        0.96450739, 0.97165726, 0.96960164, 0.97649889, 0.96154544]),\n",
       " 'test_mae': array([0.77749616, 0.77544413, 0.77435029, 0.75941   , 0.76526867,\n",
       "        0.75941563, 0.76640348, 0.7638123 , 0.76898901, 0.76242136]),\n",
       " 'fit_time': (0.8902597427368164,\n",
       "  1.0491969585418701,\n",
       "  0.8662168979644775,\n",
       "  0.8786578178405762,\n",
       "  0.8789007663726807,\n",
       "  0.8806135654449463,\n",
       "  0.8754010200500488,\n",
       "  0.8696637153625488,\n",
       "  0.8670675754547119,\n",
       "  0.876655101776123),\n",
       " 'test_time': (2.833238124847412,\n",
       "  2.294973373413086,\n",
       "  2.2954628467559814,\n",
       "  2.3209853172302246,\n",
       "  2.3743534088134766,\n",
       "  2.320955514907837,\n",
       "  2.279892683029175,\n",
       "  2.3187777996063232,\n",
       "  2.2482986450195312,\n",
       "  2.3891119956970215)}"
      ]
     },
     "execution_count": 21,
     "metadata": {},
     "output_type": "execute_result"
    }
   ],
   "source": [
    "cross_validate(algo, data, measures=['RMSE', 'MAE'], cv=10, verbose=True)"
   ]
  },
  {
   "cell_type": "code",
   "execution_count": null,
   "metadata": {},
   "outputs": [],
   "source": []
  }
 ],
 "metadata": {
  "kernelspec": {
   "display_name": "Python 3",
   "language": "python",
   "name": "python3"
  },
  "language_info": {
   "codemirror_mode": {
    "name": "ipython",
    "version": 3
   },
   "file_extension": ".py",
   "mimetype": "text/x-python",
   "name": "python",
   "nbconvert_exporter": "python",
   "pygments_lexer": "ipython3",
   "version": "3.6.5"
  }
 },
 "nbformat": 4,
 "nbformat_minor": 2
}
