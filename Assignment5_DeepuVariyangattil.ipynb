{
 "cells": [
  {
   "cell_type": "code",
   "execution_count": 1,
   "metadata": {},
   "outputs": [],
   "source": [
    "import requests"
   ]
  },
  {
   "cell_type": "code",
   "execution_count": 2,
   "metadata": {},
   "outputs": [],
   "source": [
    "import re"
   ]
  },
  {
   "cell_type": "code",
   "execution_count": 3,
   "metadata": {},
   "outputs": [],
   "source": [
    "r=requests.get(\"https://www.gutenberg.org/browse/scores/top\")"
   ]
  },
  {
   "cell_type": "code",
   "execution_count": 4,
   "metadata": {},
   "outputs": [],
   "source": [
    "from bs4 import BeautifulSoup as bs"
   ]
  },
  {
   "cell_type": "code",
   "execution_count": 5,
   "metadata": {},
   "outputs": [
    {
     "name": "stderr",
     "output_type": "stream",
     "text": [
      "C:\\ProgramData\\Anaconda3\\lib\\site-packages\\bs4\\__init__.py:181: UserWarning: No parser was explicitly specified, so I'm using the best available HTML parser for this system (\"lxml\"). This usually isn't a problem, but if you run this code on another system, or in a different virtual environment, it may use a different parser and behave differently.\n",
      "\n",
      "The code that caused this warning is on line 193 of the file C:\\ProgramData\\Anaconda3\\lib\\runpy.py. To get rid of this warning, change code that looks like this:\n",
      "\n",
      " BeautifulSoup(YOUR_MARKUP})\n",
      "\n",
      "to this:\n",
      "\n",
      " BeautifulSoup(YOUR_MARKUP, \"lxml\")\n",
      "\n",
      "  markup_type=markup_type))\n"
     ]
    }
   ],
   "source": [
    "soup=bs(r.content)"
   ]
  },
  {
   "cell_type": "code",
   "execution_count": 6,
   "metadata": {
    "scrolled": false
   },
   "outputs": [],
   "source": [
    "web_link_text=soup.findAll('a')"
   ]
  },
  {
   "cell_type": "code",
   "execution_count": 7,
   "metadata": {},
   "outputs": [],
   "source": [
    "pattern='<a href=\"/ebooks/'"
   ]
  },
  {
   "cell_type": "code",
   "execution_count": 8,
   "metadata": {},
   "outputs": [],
   "source": [
    "pattern_with_link=re.findall(pattern+'.*',str(web_link_text))"
   ]
  },
  {
   "cell_type": "code",
   "execution_count": 9,
   "metadata": {},
   "outputs": [
    {
     "data": {
      "text/plain": [
       "list"
      ]
     },
     "execution_count": 9,
     "metadata": {},
     "output_type": "execute_result"
    }
   ],
   "source": [
    "type(pattern_with_link)"
   ]
  },
  {
   "cell_type": "code",
   "execution_count": 10,
   "metadata": {},
   "outputs": [
    {
     "name": "stdout",
     "output_type": "stream",
     "text": [
      "['Pride and Prejudice by Jane Austen (1513)', 'Frankenstein; Or, The Modern Prometheus by Mary Wollstonecraft Shelley (803)', 'Heart of Darkness by Joseph Conrad (634)', 'A Tale of Two Cities by Charles Dickens (608)', 'Et dukkehjem. English by Henrik Ibsen (584)', 'A Modest Proposal by Jonathan Swift (567)', 'The Importance of Being Earnest: A Trivial Comedy for Serious People by Oscar Wilde (548)', 'Moby Dick; Or, The Whale by Herman Melville (478)', 'The Adventures of Sherlock Holmes by Arthur Conan Doyle (477)', \"Alice's Adventures in Wonderland by Lewis Carroll (474)\", 'Prestuplenie i nakazanie. English by Fyodor Dostoyevsky (449)', 'Adventures of Huckleberry Finn by Mark Twain (435)', 'The Strange Case of Dr. Jekyll and Mr. Hyde by Robert Louis Stevenson (410)', 'Metamorphosis by Franz Kafka (390)', 'The Iliad by Homer (387)', 'The Adventures of Tom Sawyer by Mark Twain (378)', 'Dracula by Bram Stoker (366)', 'Jane Eyre: An Autobiography by Charlotte Brontë (357)', 'The Awakening, and Selected Short Stories by Kate Chopin (337)', 'War and Peace by graf Leo Tolstoy (335)', 'Walden, and On The Duty Of Civil Disobedience by Henry David Thoreau (332)', 'The Picture of Dorian Gray by Oscar Wilde (327)', 'Beowulf: An Anglo-Saxon Epic Poem (320)', 'Fifty Years Ago by Walter Besant (304)', 'Great Expectations by Charles Dickens (297)', \"Grimms' Fairy Tales by Jacob Grimm and Wilhelm Grimm (286)\", 'The Yellow Wallpaper by Charlotte Perkins Gilman (282)', 'Ulysses by James Joyce (278)', 'The Scarlet Letter by Nathaniel Hawthorne (272)', 'The Souls of Black Folk by W. E. B.  Du Bois (251)', 'Tractatus Logico-Philosophicus by Ludwig Wittgenstein (244)', 'The Romance of Lust: A classic Victorian erotic novel by Anonymous (243)', 'Leaves of Grass by Walt Whitman (239)', 'Essays of Michel de Montaigne — Complete by Michel de Montaigne (219)', 'The Big Leap by Charles E. Fritch (217)', 'Il Principe. English by Niccolò Machiavelli (214)', 'Peter Pan by J. M.  Barrie (213)', 'Emma by Jane Austen (212)', 'The Brothers Karamazov by Fyodor Dostoyevsky (210)', 'Meditations by Emperor of Rome Marcus Aurelius (210)', 'Treasure Island by Robert Louis Stevenson (206)', 'A Christmas Carol in Prose; Being a Ghost Story of Christmas by Charles Dickens (205)', 'The Count of Monte Cristo, Illustrated by Alexandre Dumas (200)', 'Wuthering Heights by Emily Brontë (198)', 'Siddhartha by Hermann Hesse (197)', 'Narrative of the Life of Frederick Douglass, an American Slave by Frederick Douglass (196)', 'The Cosmic Computer by H. Beam Piper (196)', 'The Divine Comedy by Dante, Illustrated by Dante Alighieri (189)', 'The Republic by Plato (186)', 'Hard Times by Charles Dickens (183)', 'Dubliners by James Joyce (182)', 'Pygmalion by Bernard Shaw (181)', 'Leviathan by Thomas Hobbes (178)', 'The York Problem by Herbert D. Kastle (177)', 'The Wonderful Wizard of Oz by L. Frank  Baum (177)', \"Uncle Tom's Cabin by Harriet Beecher Stowe (176)\", 'Les Misérables by Victor Hugo (173)', \"Gulliver's Travels into Several Remote Nations of the World by Jonathan Swift (172)\", 'Candide by Voltaire (169)', 'A Study in Scarlet by Arthur Conan Doyle (168)', 'The Hound of the Baskervilles by Arthur Conan Doyle (167)', 'The Jungle by Upton Sinclair (166)', 'Myself when Young by Alec  Waugh (165)', 'My Secret Life, Volumes I. to III. by Anonymous (164)', 'Calculus Made Easy by Silvanus P.  Thompson (162)', 'Noli Me Tangere by José Rizal (158)', 'The Newmarket, Bury, Thetford and Cromer Road by Charles G.  Harper (157)', 'The Writings of Henry David Thoreau, Volume 8 (of 20)', 'Henry David Thoreau (157)', 'Manifest der Kommunistischen Partei. English by Friedrich Engels and Karl Marx (156)', 'The Time Machine by H. G.  Wells (152)', 'Also sprach Zarathustra. English by Friedrich Wilhelm Nietzsche (149)', 'Beyond Good and Evil by Friedrich Wilhelm Nietzsche (148)', 'The Sign of the Four by Arthur Conan Doyle (143)', 'Northanger Abbey by Jane Austen (141)', 'Oliver Twist by Charles Dickens (141)', 'The Interesting Narrative of the Life of Olaudah Equiano, Or Gustavus Vassa, The African by Equiano (140)', 'Little Women by Louisa May Alcott (140)', 'On Liberty by John Stuart Mill (139)', 'Popular Romances of the West of England by Robert Hunt (138)', 'The Turn of the Screw by Henry James (136)', 'The Complete Works of William Shakespeare by William Shakespeare (134)', 'The Life and Adventures of Robinson Crusoe by Daniel Defoe (133)', 'The Kama Sutra of Vatsyayana by Vatsyayana (132)', 'The King James Version of the Bible (132)', 'The Legend of Sleepy Hollow by Washington Irving (130)', 'Points of View by Agnes Repplier (129)', 'The War of the Worlds by H. G.  Wells (128)', 'Songs of Innocence, and Songs of Experience by William Blake (128)', \"Divine Comedy, Longfellow's Translation, Hell by Dante Alighieri (127)\", 'Don Quixote by Miguel de Cervantes Saavedra (127)', 'Anthem by Ayn Rand (124)', 'Anne of Green Gables by L. M.  Montgomery (124)', 'Sense and Sensibility by Jane Austen (123)', 'Second Treatise of Government by John Locke (121)', 'Anna Karenina by graf Leo Tolstoy (119)', 'Essays by Ralph Waldo Emerson by Ralph Waldo Emerson (117)', 'Young Jack Harkaway Fighting the Pirates of the Red Sea by Bracebridge Hemyng (117)', 'Mansfield Park by Jane Austen (116)', 'An Occurrence at Owl Creek Bridge by Ambrose Bierce (116)', 'The Road Away from Revolution by Woodrow Wilson (115)', '\n"
     ]
    }
   ],
   "source": [
    "for a in pattern_with_link:\n",
    "    b=str(a)\n",
    "    c=re.findall('[A-Z].*?\\)',b)\n",
    "    booklist=re.sub('Top.*','',str(c))\n",
    "    print(booklist)\n",
    "    \n",
    "    "
   ]
  },
  {
   "cell_type": "code",
   "execution_count": 11,
   "metadata": {},
   "outputs": [
    {
     "data": {
      "text/plain": [
       "str"
      ]
     },
     "execution_count": 11,
     "metadata": {},
     "output_type": "execute_result"
    }
   ],
   "source": [
    "type(booklist)"
   ]
  },
  {
   "cell_type": "code",
   "execution_count": 11,
   "metadata": {},
   "outputs": [],
   "source": [
    "booklist=booklist.replace('[','')"
   ]
  },
  {
   "cell_type": "code",
   "execution_count": 12,
   "metadata": {},
   "outputs": [],
   "source": [
    "import spacy"
   ]
  },
  {
   "cell_type": "code",
   "execution_count": 13,
   "metadata": {},
   "outputs": [],
   "source": [
    "nlp=spacy.load('en_core_web_lg')"
   ]
  },
  {
   "cell_type": "code",
   "execution_count": 14,
   "metadata": {},
   "outputs": [],
   "source": [
    "doc=nlp(booklist)"
   ]
  },
  {
   "cell_type": "markdown",
   "metadata": {},
   "source": [
    "1. How many tokens are in the document?\n",
    "2. How many verbs are in the document?"
   ]
  },
  {
   "cell_type": "code",
   "execution_count": 15,
   "metadata": {},
   "outputs": [
    {
     "name": "stdout",
     "output_type": "stream",
     "text": [
      "Number of verbs is :9\n",
      "Token Count is 1404\n"
     ]
    }
   ],
   "source": [
    "from collections import Counter\n",
    "token_count=0\n",
    "verb=0\n",
    "for token in doc:\n",
    "    token_count=token_count+1\n",
    "    c=Counter(token.pos_)\n",
    "    #print(c)\n",
    "    for key in c.keys():\n",
    "        if key is 'V':\n",
    "            verb=verb+1  \n",
    "    \n",
    "print(\"Number of verbs is :\"+str(verb))        \n",
    "    #print(token.text)\n",
    "print(\"Token Count is \"+str(token_count))    "
   ]
  },
  {
   "cell_type": "markdown",
   "metadata": {},
   "source": [
    "4. How many setences are in the document?"
   ]
  },
  {
   "cell_type": "code",
   "execution_count": 16,
   "metadata": {},
   "outputs": [
    {
     "name": "stdout",
     "output_type": "stream",
     "text": [
      "count of sentence: 14\n"
     ]
    }
   ],
   "source": [
    "count_sent=0\n",
    "for sentence in (doc.sents):\n",
    "    count_sent=count_sent+1\n",
    "    #print(\"Sentence is : \"+str(sentence))\n",
    "print(\"count of sentence: \"+str(count_sent))    "
   ]
  },
  {
   "cell_type": "markdown",
   "metadata": {},
   "source": [
    "5. Of all the sentences in the text that are at least 10 words in length, which two are most similar (but not identical)?"
   ]
  },
  {
   "cell_type": "code",
   "execution_count": 19,
   "metadata": {},
   "outputs": [
    {
     "name": "stdout",
     "output_type": "stream",
     "text": [
      "Similariy value is :0.9854063653031501\n",
      "Sentence 1 : \n",
      ", 'Peter Pan by J. M.  Barrie (213)', 'Emma by Jane Austen (212)', 'The Brothers Karamazov by Fyodor Dostoyevsky (210)', 'Meditations by Emperor of Rome Marcus Aurelius (210)', 'Treasure Island by Robert Louis Stevenson (206)', 'A Christmas Carol in Prose; Being a Ghost Story of Christmas by Charles Dickens (205)', 'The Count of Monte Cristo, Illustrated by Alexandre Dumas (200)', 'Wuthering Heights by Emily Brontë (198)', 'Siddhartha by Hermann Hesse (197)', 'Narrative of the Life of Frederick Douglass, an American Slave by Frederick Douglass (196)', 'The Cosmic Computer by H. Beam Piper (196)', 'The Divine Comedy by Dante, Illustrated by Dante Alighieri (189)', 'The Republic by Plato (186)', 'Hard Times by Charles Dickens (183)', 'Dubliners by James Joyce (182)', 'Pygmalion by Bernard Shaw (181)', 'Leviathan by Thomas Hobbes (178)', 'The York Problem by Herbert D. Kastle (177)', 'The Wonderful Wizard of Oz by L. Frank  Baum (177)', \"Uncle Tom's Cabin by Harriet Beecher Stowe (176)\", 'Les Misérables by Victor Hugo (173)', \"Gulliver's Travels into Several Remote Nations of the World by Jonathan Swift (172)\", 'Candide by Voltaire (169)', 'A Study in Scarlet by Arthur Conan Doyle (168)', 'The Hound of the Baskervilles by Arthur Conan Doyle (167)', 'The Jungle by Upton Sinclair (166)', 'Myself when Young by Alec  Waugh (165)', 'My Secret Life, Volumes I. to III.\n",
      "Sentence 2: \n",
      "'The Sign of the Four by Arthur Conan Doyle (143)', 'Northanger Abbey by Jane Austen (141)', 'Oliver Twist by Charles Dickens (141)', 'The Interesting Narrative of the Life of Olaudah Equiano, Or Gustavus Vassa, The African by Equiano (140)', 'Little Women by Louisa May Alcott (140)', 'On Liberty by John Stuart Mill (139)', 'Popular Romances of the West of England by Robert Hunt (138)', 'The Turn of the Screw by Henry James (136)', 'The Complete Works of William Shakespeare by William Shakespeare (134)', 'The Life and Adventures of Robinson Crusoe by Daniel Defoe (133)', 'The Kama Sutra of Vatsyayana by Vatsyayana (132)', 'The King James Version of the Bible (132)', 'The Legend of Sleepy Hollow by Washington Irving (130)', 'Points of View by Agnes Repplier (129)', 'The War of the Worlds by H. G.  Wells (128)', 'Songs of Innocence, and Songs of Experience by William Blake (128)', \"Divine Comedy, Longfellow's Translation, Hell by Dante Alighieri (127)\", 'Don Quixote by Miguel de Cervantes Saavedra (127)', 'Anthem by Ayn Rand (124)', 'Anne of Green Gables by L. M.  Montgomery (124)', 'Sense and Sensibility by Jane Austen (123)', 'Second Treatise of Government by John Locke (121)', 'Anna Karenina by graf Leo Tolstoy (119)', 'Essays by Ralph Waldo Emerson by Ralph Waldo Emerson (117)', 'Young Jack Harkaway\n"
     ]
    }
   ],
   "source": [
    "sent_doc={}\n",
    "sent_simi={}\n",
    "i=0\n",
    "similarity_list=[]\n",
    "for sentence in doc.sents:\n",
    "    \n",
    "    sentences=sentence.string.strip()\n",
    "        \n",
    "    sentence_count=sentences.count(\" \")\n",
    "    if(sentence_count)>10:\n",
    "        i=i+1\n",
    "        sent_doc.update({i:sentence})\n",
    "#print(i)        \n",
    "for key in sent_doc.keys():\n",
    "    T_S=sent_doc.get(key)\n",
    "    j=i\n",
    "    #print(j)\n",
    "    #print(T_S.string)\n",
    "    #print(key)\n",
    "    #print(sent_doc.get(key).similarity(sent_doc.get(key+1)))\n",
    "    \n",
    "    while(j>key):\n",
    "        similarity_list.append(T_S.similarity(sent_doc.get(j)))\n",
    "        \n",
    "        dict_key=str(key)+\"-\"+str(j)\n",
    "        \n",
    "        \n",
    "        sent_simi.update({dict_key:T_S.similarity(sent_doc.get(j))})\n",
    "        j=j-1\n",
    "        #print(similarity_list)\n",
    "#print(sent_simi)        \n",
    "sorted_simil=sorted(similarity_list,reverse=True)\n",
    "for key in sent_simi.keys():\n",
    "    value=sent_simi.get(key)\n",
    "    #print(value)\n",
    "    if value==sorted_simil[0]:\n",
    "        #print(\"sentences which are quite similar is \"+str(key))\n",
    "        print(\"Similariy value is :\"+str(value))\n",
    "        sentence_number=key.split(\"-\")\n",
    "        \n",
    "        print (\"Sentence 1 \" + \": \")\n",
    "        print(sent_doc.get(int(sentence_number[0])))\n",
    "        print (\"Sentence 2\" + \": \")\n",
    "        print(sent_doc.get(int(sentence_number[1])))\n",
    "        \n",
    "    \n",
    "    \n",
    "    \n",
    "        \n",
    "        \n",
    "\n",
    "    "
   ]
  },
  {
   "cell_type": "markdown",
   "metadata": {},
   "source": [
    "6.What is the vector representation of the first word in the 15th sentence in the document?\n"
   ]
  },
  {
   "cell_type": "code",
   "execution_count": 45,
   "metadata": {
    "scrolled": true
   },
   "outputs": [
    {
     "name": "stdout",
     "output_type": "stream",
     "text": [
      "An True [-1.1662e-02  1.9483e-01  8.8854e-02  5.4694e-01  2.5764e-01  1.5619e-01\n",
      " -3.4131e-01 -2.1666e-01 -1.4187e-01  2.4525e+00 -6.4806e-02  8.5481e-02\n",
      " -1.1925e-01  8.7107e-03  1.8261e-01 -2.9207e-01 -1.1578e-01  1.5710e+00\n",
      " -3.1973e-01 -4.1279e-01 -1.8129e-01 -2.9101e-01 -2.1584e-01  1.9685e-01\n",
      "  1.5240e-01 -9.0306e-02 -9.7694e-02  9.8791e-02  6.7369e-02 -2.4964e-01\n",
      "  9.9773e-02  3.2079e-01 -5.6697e-02  3.2238e-01  1.5905e-01 -4.5345e-01\n",
      "  1.1294e-01 -5.0674e-01  2.3202e-01 -5.5625e-01  3.9208e-01  1.4811e-01\n",
      " -1.8637e-01 -6.2775e-01 -2.9390e-02 -1.0555e-01 -9.5531e-02 -9.7434e-02\n",
      "  1.9720e-01  2.2059e-01 -1.1017e-01 -4.8332e-02 -4.8414e-02  2.9998e-03\n",
      "  9.9272e-02 -2.3553e-02  1.4603e-02 -9.8494e-02 -1.4167e-01  1.1831e-01\n",
      " -1.2322e-02  3.6239e-02  1.0297e-01  1.1158e-01 -4.1930e-02 -1.6625e-01\n",
      "  2.8472e-01 -2.2051e-01 -4.9708e-02  3.2561e-01 -2.4400e-01 -2.8140e-02\n",
      " -7.1356e-03 -2.2616e-01 -8.9478e-02  8.2447e-02  4.8198e-02 -2.8326e-01\n",
      " -7.4620e-01  6.0872e-01  2.1592e-01  1.3517e-01 -5.8790e-03  1.5697e-01\n",
      "  1.7543e-02 -6.5070e-01 -6.0810e-01  1.3962e-01  2.8628e-01 -3.4076e-01\n",
      " -3.2782e-01  3.3876e-01  2.2207e-01 -1.4818e-01 -3.2918e-01 -1.5938e-01\n",
      " -3.8448e-01 -1.2595e-01 -9.9549e-02 -2.8544e-01  9.3137e-03  7.8235e-03\n",
      " -9.3138e-02 -6.8065e-02  2.6759e-02 -1.0398e+00  2.4762e-01  3.8398e-01\n",
      "  6.6230e-01 -2.6994e-01  1.9174e-01 -1.3892e-01 -3.7396e-01 -1.6413e-04\n",
      " -9.4473e-02  9.7790e-02 -4.4733e-01  1.7914e-01 -2.2492e-01  1.1517e-02\n",
      " -2.1837e-01 -2.7095e-02  2.2307e-01 -3.4854e-01 -1.8707e-01  3.0603e-03\n",
      " -4.2032e-01 -1.8487e-01 -5.6208e-01 -1.5139e-01 -1.0828e-01 -2.1532e-01\n",
      " -2.7416e-01 -2.0356e-01  2.4666e-01 -2.3746e-01 -1.2539e-01 -1.4658e-02\n",
      "  4.4677e-02 -6.8932e-01 -7.1280e-01  1.9282e-01  4.3114e-02  9.2519e-02\n",
      " -7.1066e-02 -3.7312e-01  2.5582e-01 -2.9538e-01  3.4666e-01 -2.0368e-01\n",
      "  1.8214e-01  3.2011e-01  1.0774e-01 -1.9064e-01  4.9321e-01  1.1759e-01\n",
      " -7.7502e-02 -2.0347e-01 -3.0257e-01 -2.4968e-01 -3.3035e-01 -1.1076e-01\n",
      "  1.7257e-01 -2.5248e-01 -1.5597e-01 -9.5579e-02  2.9602e-01 -1.1353e-01\n",
      "  1.1378e-01  4.2170e-02 -1.0416e-01  1.0275e-01  3.2486e-01  1.2846e-01\n",
      "  8.6711e-03 -8.7829e-02  4.1325e-02 -2.5309e-01 -4.4164e-01 -1.3862e-01\n",
      " -3.1100e-01  1.5086e-01 -2.9916e-01 -5.4871e-01 -4.6731e-01 -1.8136e-01\n",
      " -1.3318e-01  2.4436e-01  1.3889e-02 -2.1335e-01 -3.1292e-01  2.0530e-01\n",
      " -6.1686e-01  5.6070e-01  2.2628e-01  4.2597e-01 -3.0931e-01 -1.9921e-01\n",
      " -1.6589e-01  1.6017e-01  5.9949e-02  1.6039e-01 -9.4529e-02  2.1313e-01\n",
      "  4.3970e-01 -1.1975e-01  2.0910e-01  2.0094e-01  1.7543e-01  1.8910e-01\n",
      " -4.4454e-01  7.7866e-02  8.1136e-02 -3.6833e-01 -4.0159e-01  6.2475e-01\n",
      " -5.4086e-02  5.2973e-01  4.8823e-02 -3.1570e-02 -1.2963e-02  5.5686e-02\n",
      " -9.4021e-02  7.0565e-02 -3.7699e-01 -3.6916e-01  6.4286e-02  4.1971e-01\n",
      "  1.0837e-01 -1.3602e-01 -5.6549e-02 -4.0015e-02  3.4090e-01  1.1575e-01\n",
      " -5.4581e-02 -2.0758e-01  4.0873e-01  1.2970e-03 -3.6174e-01  5.9374e-01\n",
      "  7.4668e-02  2.7985e-01  3.3846e-01  5.1372e-01  4.8615e-01 -2.6198e-01\n",
      "  2.5109e-01  2.3477e-01  1.6903e-01 -1.4265e-01 -1.9448e-01 -1.0927e-01\n",
      "  2.1903e-01  1.3169e-01 -7.3529e-02  5.8470e-02  3.0656e-01 -2.1659e-01\n",
      " -3.5887e-02  2.3820e-01 -1.9286e-01  2.3738e-01  3.2946e-01 -4.3599e-01\n",
      "  1.6886e-01 -2.1193e-01 -6.9089e-02 -4.8063e-01  4.0617e-01 -5.1688e-03\n",
      "  6.8038e-01 -1.8951e-02 -2.3077e-01 -3.9166e-03 -3.6334e-01  3.2451e-01\n",
      " -3.7190e-01 -6.5041e-02  5.0366e-01  1.8549e-01  4.2846e-01  3.3319e-01\n",
      "  1.4532e-01  2.3860e-02 -7.0744e-02 -6.6983e-01 -1.1862e-01  7.2780e-02\n",
      "  2.7465e-01 -4.9775e-02  2.1254e-03  1.8468e-01 -2.1512e-03 -2.5295e-01\n",
      " -3.4570e-01 -2.7130e-01  1.2307e-01 -5.4666e-02 -1.9340e-01  1.3995e-01] 5.5624833\n"
     ]
    }
   ],
   "source": [
    "i=1\n",
    "for sentence in doc.sents:\n",
    "    \n",
    "    #print(i)\n",
    "    #print(sentence)\n",
    "    #print(count_sent)\n",
    "    #print(i)\n",
    "    if count_sent==i or i==15:\n",
    "        for token in sentence:\n",
    "            if(token.is_alpha):\n",
    "                print(token.text,token.has_vector,token.vector,token.vector_norm) \n",
    "                break\n",
    "            \n",
    "    i=i+1    \n",
    "    \n"
   ]
  },
  {
   "cell_type": "markdown",
   "metadata": {},
   "source": [
    "3. What is the most frequent named entity?"
   ]
  },
  {
   "cell_type": "code",
   "execution_count": 61,
   "metadata": {},
   "outputs": [
    {
     "data": {
      "text/plain": [
       "[('PERSON', 127)]"
      ]
     },
     "execution_count": 61,
     "metadata": {},
     "output_type": "execute_result"
    }
   ],
   "source": [
    "labels = [x.label_ for x in doc.ents]\n",
    "Counter(labels).most_common(1)\n",
    "\n",
    "    \n",
    "    \n",
    "    #ent.text"
   ]
  },
  {
   "cell_type": "code",
   "execution_count": 62,
   "metadata": {},
   "outputs": [
    {
     "data": {
      "text/plain": [
       "[('Jane Austen', 5)]"
      ]
     },
     "execution_count": 62,
     "metadata": {},
     "output_type": "execute_result"
    }
   ],
   "source": [
    "items = [x.text for x in doc.ents]\n",
    "Counter(items).most_common(1)"
   ]
  },
  {
   "cell_type": "code",
   "execution_count": null,
   "metadata": {},
   "outputs": [],
   "source": []
  }
 ],
 "metadata": {
  "kernelspec": {
   "display_name": "Python 3",
   "language": "python",
   "name": "python3"
  },
  "language_info": {
   "codemirror_mode": {
    "name": "ipython",
    "version": 3
   },
   "file_extension": ".py",
   "mimetype": "text/x-python",
   "name": "python",
   "nbconvert_exporter": "python",
   "pygments_lexer": "ipython3",
   "version": "3.6.5"
  }
 },
 "nbformat": 4,
 "nbformat_minor": 2
}
